{
 "cells": [
  {
   "cell_type": "code",
   "execution_count": 2,
   "id": "5b29c8f6",
   "metadata": {},
   "outputs": [],
   "source": [
    "from pyspark.sql.types import *\n",
    "from pyspark.sql.functions import *\n",
    "from pyspark.ml.classification import LogisticRegression\n",
    "from pyspark.ml.feature import HashingTF, Tokenizer, StopWordsRemover\n",
    "\n",
    "appName = \"Spam Detection\"\n",
    "spark = SparkSession \\\n",
    "    .builder \\\n",
    "    .appName(appName) \\\n",
    "    .config(\"spark.some.config.option\", \"some-value\") \\\n",
    "    .getOrCreate()"
   ]
  },
  {
   "cell_type": "code",
   "execution_count": null,
   "id": "d3e3823e",
   "metadata": {},
   "outputs": [],
   "source": [
    "spam_csv = spark.read.csv('spam_email.csv', inferSchema=True, header=True)\n",
    "spam_csv.show(10)"
   ]
  },
  {
   "cell_type": "code",
   "execution_count": null,
   "id": "177f0c09",
   "metadata": {},
   "outputs": [],
   "source": [
    "datafilter = spam_csv.filter((spam_csv['label'] != 0))\n",
    "datafilter.show(10)"
   ]
  },
  {
   "cell_type": "code",
   "execution_count": null,
   "id": "925033dc",
   "metadata": {},
   "outputs": [],
   "source": [
    "dividedData = spam_csv.randomSplit([0.7, 0.3]) \n",
    "trainingData = dividedData[0] #index 0 = data training\n",
    "testingData = dividedData[1] #index 1 = data testing\n",
    "train_rows = trainingData.count()\n",
    "test_rows = testingData.count()\n",
    "print (\"Training data rows:\", train_rows, \"; Testing data rows:\", test_rows)"
   ]
  },
  {
   "cell_type": "code",
   "execution_count": null,
   "id": "d0dbc0ea",
   "metadata": {},
   "outputs": [],
   "source": [
    "tokenizer = Tokenizer(inputCol=\"email\", outputCol=\"SentimentWords\")\n",
    "tokenizedTrain = tokenizer.transform(trainingData)\n",
    "tokenizedTrain.head()"
   ]
  },
  {
   "cell_type": "code",
   "execution_count": null,
   "id": "8e8fa375",
   "metadata": {},
   "outputs": [],
   "source": [
    "swr = StopWordsRemover(inputCol=tokenizer.getOutputCol(), \n",
    "                       outputCol=\"MeaningfulWords\")\n",
    "SwRemovedTrain = swr.transform(tokenizedTrain)\n",
    "SwRemovedTrain.show(15)"
   ]
  },
  {
   "cell_type": "code",
   "execution_count": null,
   "id": "3670abab",
   "metadata": {},
   "outputs": [],
   "source": [
    "hashTF = HashingTF(inputCol=swr.getOutputCol(), outputCol=\"features\")\n",
    "numericTrainData = hashTF.transform(SwRemovedTrain).select(\n",
    "    'label', 'MeaningfulWords', 'features')\n",
    "numericTrainData.show(3)"
   ]
  },
  {
   "cell_type": "code",
   "execution_count": null,
   "id": "4d5c014b",
   "metadata": {},
   "outputs": [],
   "source": [
    "lr = LogisticRegression(labelCol=\"label\", featuresCol=\"features\", \n",
    "                        maxIter=10, regParam=0.01)\n",
    "model = lr.fit(numericTrainData)\n",
    "print (\"Training is done!\")"
   ]
  },
  {
   "cell_type": "code",
   "execution_count": null,
   "id": "60e3a64b",
   "metadata": {},
   "outputs": [],
   "source": [
    "tokenizedTest = tokenizer.transform(testingData)\n",
    "SwRemovedTest = swr.transform(tokenizedTest)\n",
    "numericTest = hashTF.transform(SwRemovedTest).select('label', 'MeaningfulWords', 'features')\n",
    "numericTest.show(2)"
   ]
  },
  {
   "cell_type": "code",
   "execution_count": null,
   "id": "5c5f374c",
   "metadata": {},
   "outputs": [],
   "source": []
  }
 ],
 "metadata": {
  "kernelspec": {
   "display_name": "Python 3 (ipykernel)",
   "language": "python",
   "name": "python3"
  },
  "language_info": {
   "codemirror_mode": {
    "name": "ipython",
    "version": 3
   },
   "file_extension": ".py",
   "mimetype": "text/x-python",
   "name": "python",
   "nbconvert_exporter": "python",
   "pygments_lexer": "ipython3",
   "version": "3.11.3"
  }
 },
 "nbformat": 4,
 "nbformat_minor": 5
}
